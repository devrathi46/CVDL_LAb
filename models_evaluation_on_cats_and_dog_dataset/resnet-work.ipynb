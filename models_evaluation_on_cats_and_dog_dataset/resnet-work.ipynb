{
 "cells": [
  {
   "cell_type": "code",
   "execution_count": 1,
   "id": "1e810a87",
   "metadata": {
    "_cell_guid": "b1076dfc-b9ad-4769-8c92-a6c4dae69d19",
    "_uuid": "8f2839f25d086af736a60e9eeb907d3b93b6e0e5",
    "execution": {
     "iopub.execute_input": "2025-03-07T19:28:58.705881Z",
     "iopub.status.busy": "2025-03-07T19:28:58.705571Z",
     "iopub.status.idle": "2025-03-07T19:29:07.819620Z",
     "shell.execute_reply": "2025-03-07T19:29:07.818499Z"
    },
    "papermill": {
     "duration": 9.12037,
     "end_time": "2025-03-07T19:29:07.821194",
     "exception": false,
     "start_time": "2025-03-07T19:28:58.700824",
     "status": "completed"
    },
    "tags": []
   },
   "outputs": [
    {
     "name": "stdout",
     "output_type": "stream",
     "text": [
      "done\n"
     ]
    }
   ],
   "source": [
    "# This Python 3 environment comes with many helpful analytics libraries installed\n",
    "# It is defined by the kaggle/python Docker image: https://github.com/kaggle/docker-python\n",
    "# For example, here's several helpful packages to load\n",
    "\n",
    "import numpy as np # linear algebra\n",
    "import pandas as pd # data processing, CSV file I/O (e.g. pd.read_csv)\n",
    "\n",
    "# Input data files are available in the read-only \"../input/\" directory\n",
    "# For example, running this (by clicking run or pressing Shift+Enter) will list all files under the input directory\n",
    "\n",
    "import os\n",
    "for dirname, _, filenames in os.walk('/kaggle/input'):\n",
    "    for filename in filenames:\n",
    "        pass\n",
    "        #print(os.path.join(dirname, filename))\n",
    "\n",
    "print(\"done\")\n",
    "# You can write up to 20GB to the current directory (/kaggle/working/) that gets preserved as output when you create a version using \"Save & Run All\" \n",
    "# You can also write temporary files to /kaggle/temp/, but they won't be saved outside of the current session"
   ]
  },
  {
   "cell_type": "code",
   "execution_count": 2,
   "id": "089fc9c7",
   "metadata": {
    "execution": {
     "iopub.execute_input": "2025-03-07T19:29:07.828386Z",
     "iopub.status.busy": "2025-03-07T19:29:07.827926Z",
     "iopub.status.idle": "2025-03-07T19:29:21.327464Z",
     "shell.execute_reply": "2025-03-07T19:29:21.326617Z"
    },
    "papermill": {
     "duration": 13.504657,
     "end_time": "2025-03-07T19:29:21.329167",
     "exception": false,
     "start_time": "2025-03-07T19:29:07.824510",
     "status": "completed"
    },
    "tags": []
   },
   "outputs": [],
   "source": [
    "import tensorflow as tf\n",
    "from tensorflow.keras.applications import ResNet101\n",
    "from tensorflow.keras.models import Model\n",
    "from tensorflow.keras.layers import Dense, GlobalAveragePooling2D, Dropout, BatchNormalization\n",
    "from tensorflow.keras.preprocessing.image import ImageDataGenerator\n",
    "from tensorflow.keras.optimizers.schedules import ExponentialDecay\n",
    "from tensorflow.keras.regularizers import l2"
   ]
  },
  {
   "cell_type": "code",
   "execution_count": 3,
   "id": "6aa41cd1",
   "metadata": {
    "execution": {
     "iopub.execute_input": "2025-03-07T19:29:21.336573Z",
     "iopub.status.busy": "2025-03-07T19:29:21.335982Z",
     "iopub.status.idle": "2025-03-07T19:29:27.681892Z",
     "shell.execute_reply": "2025-03-07T19:29:27.681109Z"
    },
    "papermill": {
     "duration": 6.351308,
     "end_time": "2025-03-07T19:29:27.683689",
     "exception": false,
     "start_time": "2025-03-07T19:29:21.332381",
     "status": "completed"
    },
    "tags": []
   },
   "outputs": [
    {
     "name": "stdout",
     "output_type": "stream",
     "text": [
      "Downloading data from https://storage.googleapis.com/tensorflow/keras-applications/resnet/resnet101_weights_tf_dim_ordering_tf_kernels_notop.h5\n",
      "\u001b[1m171446536/171446536\u001b[0m \u001b[32m━━━━━━━━━━━━━━━━━━━━\u001b[0m\u001b[37m\u001b[0m \u001b[1m1s\u001b[0m 0us/step\n"
     ]
    }
   ],
   "source": [
    "\n",
    "\n",
    "# 🔥 Step 1: Load Pretrained ResNet101 with Fine-Tuning\n",
    "base_model = ResNet101(weights='imagenet', include_top=False, input_shape=(224, 224, 3))\n",
    "\n",
    "# Unfreeze the last 30% of layers for better fine-tuning\n",
    "fine_tune_at = int(len(base_model.layers) * 0.7)  \n",
    "for layer in base_model.layers[:fine_tune_at]:\n",
    "    layer.trainable = False\n",
    "for layer in base_model.layers[fine_tune_at:]:\n",
    "    layer.trainable = True\n",
    "\n",
    "# 🔥 Step 2: Define the New Fully Connected Layers\n",
    "x = GlobalAveragePooling2D()(base_model.output)  # Adaptive pooling instead of Flatten\n",
    "x = Dense(512, activation='relu', kernel_regularizer=l2(0.001))(x)\n",
    "x = BatchNormalization()(x)  \n",
    "x = Dropout(0.4)(x)  # Prevent overfitting\n",
    "x = Dense(256, activation='relu', kernel_regularizer=l2(0.001))(x)\n",
    "x = Dropout(0.3)(x)  \n",
    "x = Dense(1, activation='sigmoid')(x)  # Binary Classification Output"
   ]
  },
  {
   "cell_type": "code",
   "execution_count": 4,
   "id": "d9396beb",
   "metadata": {
    "execution": {
     "iopub.execute_input": "2025-03-07T19:29:27.693108Z",
     "iopub.status.busy": "2025-03-07T19:29:27.692820Z",
     "iopub.status.idle": "2025-03-07T19:29:27.724587Z",
     "shell.execute_reply": "2025-03-07T19:29:27.723829Z"
    },
    "papermill": {
     "duration": 0.038066,
     "end_time": "2025-03-07T19:29:27.726106",
     "exception": false,
     "start_time": "2025-03-07T19:29:27.688040",
     "status": "completed"
    },
    "tags": []
   },
   "outputs": [],
   "source": [
    "# Create the final model\n",
    "resnet_model = Model(inputs=base_model.input, outputs=x)\n",
    "\n",
    "# 🔥 Step 3: Optimized Learning Rate Scheduling\n",
    "lr_schedule = ExponentialDecay(initial_learning_rate=1e-4, decay_steps=1000, decay_rate=0.96, staircase=True)\n",
    "\n",
    "# 🔥 Step 4: Compile the Model with AdamW Optimizer\n",
    "resnet_model.compile(\n",
    "    optimizer=tf.keras.optimizers.AdamW(learning_rate=lr_schedule, weight_decay=1e-4),  \n",
    "    loss='binary_crossentropy',\n",
    "    metrics=['accuracy']\n",
    ")"
   ]
  },
  {
   "cell_type": "code",
   "execution_count": 5,
   "id": "627b90a9",
   "metadata": {
    "execution": {
     "iopub.execute_input": "2025-03-07T19:29:27.735735Z",
     "iopub.status.busy": "2025-03-07T19:29:27.735418Z",
     "iopub.status.idle": "2025-03-07T19:29:27.739565Z",
     "shell.execute_reply": "2025-03-07T19:29:27.738742Z"
    },
    "papermill": {
     "duration": 0.010335,
     "end_time": "2025-03-07T19:29:27.740929",
     "exception": false,
     "start_time": "2025-03-07T19:29:27.730594",
     "status": "completed"
    },
    "tags": []
   },
   "outputs": [],
   "source": [
    "# 🔄 Step 5: Advanced Data Augmentation for Better Generalization\n",
    "train_datagen = ImageDataGenerator(\n",
    "    rescale=1./255,\n",
    "    rotation_range=30,  \n",
    "    width_shift_range=0.2,\n",
    "    height_shift_range=0.2,\n",
    "    shear_range=0.2,\n",
    "    zoom_range=0.3,\n",
    "    horizontal_flip=True,\n",
    "    brightness_range=[0.7, 1.3],  # Handle different lighting conditions\n",
    "    fill_mode='nearest',\n",
    "    validation_split=0.2  \n",
    ")"
   ]
  },
  {
   "cell_type": "code",
   "execution_count": 6,
   "id": "1ca92cdd",
   "metadata": {
    "execution": {
     "iopub.execute_input": "2025-03-07T19:29:27.749992Z",
     "iopub.status.busy": "2025-03-07T19:29:27.749706Z",
     "iopub.status.idle": "2025-03-07T19:29:30.267173Z",
     "shell.execute_reply": "2025-03-07T19:29:30.266443Z"
    },
    "papermill": {
     "duration": 2.523905,
     "end_time": "2025-03-07T19:29:30.268976",
     "exception": false,
     "start_time": "2025-03-07T19:29:27.745071",
     "status": "completed"
    },
    "tags": []
   },
   "outputs": [
    {
     "name": "stdout",
     "output_type": "stream",
     "text": [
      "Found 6404 images belonging to 2 classes.\n",
      "Found 1601 images belonging to 2 classes.\n"
     ]
    }
   ],
   "source": [
    "train_generator = train_datagen.flow_from_directory(\n",
    "    '/kaggle/input/cat-and-dog/training_set/training_set',\n",
    "    target_size=(224, 224),\n",
    "    batch_size=32,\n",
    "    class_mode='binary',\n",
    "    subset='training'\n",
    ")\n",
    "\n",
    "val_generator = train_datagen.flow_from_directory(\n",
    "    '/kaggle/input/cat-and-dog/training_set/training_set',\n",
    "    target_size=(224, 224),\n",
    "    batch_size=32,\n",
    "    class_mode='binary',\n",
    "    subset='validation'\n",
    ")"
   ]
  },
  {
   "cell_type": "code",
   "execution_count": 7,
   "id": "c24cefc6",
   "metadata": {
    "execution": {
     "iopub.execute_input": "2025-03-07T19:29:30.278891Z",
     "iopub.status.busy": "2025-03-07T19:29:30.278595Z",
     "iopub.status.idle": "2025-03-07T19:29:31.323569Z",
     "shell.execute_reply": "2025-03-07T19:29:31.322492Z"
    },
    "papermill": {
     "duration": 1.051826,
     "end_time": "2025-03-07T19:29:31.325362",
     "exception": false,
     "start_time": "2025-03-07T19:29:30.273536",
     "status": "completed"
    },
    "tags": []
   },
   "outputs": [
    {
     "name": "stdout",
     "output_type": "stream",
     "text": [
      "Found 2023 images belonging to 2 classes.\n"
     ]
    }
   ],
   "source": [
    "test_datagen = ImageDataGenerator(rescale=1./255)\n",
    "\n",
    "test_generator = test_datagen.flow_from_directory(\n",
    "    '/kaggle/input/cat-and-dog/test_set/test_set/',\n",
    "    target_size=(224, 224),\n",
    "    batch_size=32,\n",
    "    class_mode='binary',\n",
    "    shuffle=False\n",
    ")"
   ]
  },
  {
   "cell_type": "code",
   "execution_count": 8,
   "id": "4fe8d6c8",
   "metadata": {
    "execution": {
     "iopub.execute_input": "2025-03-07T19:29:31.335391Z",
     "iopub.status.busy": "2025-03-07T19:29:31.335001Z",
     "iopub.status.idle": "2025-03-07T19:52:30.866770Z",
     "shell.execute_reply": "2025-03-07T19:52:30.865803Z"
    },
    "papermill": {
     "duration": 1379.651111,
     "end_time": "2025-03-07T19:52:30.980996",
     "exception": false,
     "start_time": "2025-03-07T19:29:31.329885",
     "status": "completed"
    },
    "tags": []
   },
   "outputs": [
    {
     "name": "stdout",
     "output_type": "stream",
     "text": [
      "Epoch 1/10\n"
     ]
    },
    {
     "name": "stderr",
     "output_type": "stream",
     "text": [
      "/usr/local/lib/python3.10/dist-packages/keras/src/trainers/data_adapters/py_dataset_adapter.py:122: UserWarning: Your `PyDataset` class should call `super().__init__(**kwargs)` in its constructor. `**kwargs` can include `workers`, `use_multiprocessing`, `max_queue_size`. Do not pass these arguments to `fit()`, as they will be ignored.\n",
      "  self._warn_if_super_not_called()\n"
     ]
    },
    {
     "name": "stdout",
     "output_type": "stream",
     "text": [
      "\u001b[1m201/201\u001b[0m \u001b[32m━━━━━━━━━━━━━━━━━━━━\u001b[0m\u001b[37m\u001b[0m \u001b[1m247s\u001b[0m 920ms/step - accuracy: 0.5578 - loss: 1.9151 - val_accuracy: 0.5059 - val_loss: 1.9505\n",
      "Epoch 2/10\n",
      "\u001b[1m201/201\u001b[0m \u001b[32m━━━━━━━━━━━━━━━━━━━━\u001b[0m\u001b[37m\u001b[0m \u001b[1m125s\u001b[0m 604ms/step - accuracy: 0.6014 - loss: 1.7568 - val_accuracy: 0.6177 - val_loss: 1.6546\n",
      "Epoch 3/10\n",
      "\u001b[1m201/201\u001b[0m \u001b[32m━━━━━━━━━━━━━━━━━━━━\u001b[0m\u001b[37m\u001b[0m \u001b[1m127s\u001b[0m 615ms/step - accuracy: 0.6011 - loss: 1.6834 - val_accuracy: 0.5009 - val_loss: 2.7417\n",
      "Epoch 4/10\n",
      "\u001b[1m201/201\u001b[0m \u001b[32m━━━━━━━━━━━━━━━━━━━━\u001b[0m\u001b[37m\u001b[0m \u001b[1m128s\u001b[0m 620ms/step - accuracy: 0.6314 - loss: 1.6006 - val_accuracy: 0.5091 - val_loss: 1.7281\n",
      "Epoch 5/10\n",
      "\u001b[1m201/201\u001b[0m \u001b[32m━━━━━━━━━━━━━━━━━━━━\u001b[0m\u001b[37m\u001b[0m \u001b[1m128s\u001b[0m 618ms/step - accuracy: 0.6361 - loss: 1.5401 - val_accuracy: 0.6227 - val_loss: 1.5124\n",
      "Epoch 6/10\n",
      "\u001b[1m201/201\u001b[0m \u001b[32m━━━━━━━━━━━━━━━━━━━━\u001b[0m\u001b[37m\u001b[0m \u001b[1m124s\u001b[0m 599ms/step - accuracy: 0.6312 - loss: 1.4893 - val_accuracy: 0.6527 - val_loss: 1.4292\n",
      "Epoch 7/10\n",
      "\u001b[1m201/201\u001b[0m \u001b[32m━━━━━━━━━━━━━━━━━━━━\u001b[0m\u001b[37m\u001b[0m \u001b[1m123s\u001b[0m 594ms/step - accuracy: 0.6361 - loss: 1.4489 - val_accuracy: 0.5178 - val_loss: 1.5717\n",
      "Epoch 8/10\n",
      "\u001b[1m201/201\u001b[0m \u001b[32m━━━━━━━━━━━━━━━━━━━━\u001b[0m\u001b[37m\u001b[0m \u001b[1m124s\u001b[0m 597ms/step - accuracy: 0.6528 - loss: 1.3893 - val_accuracy: 0.6621 - val_loss: 1.3446\n",
      "Epoch 9/10\n",
      "\u001b[1m201/201\u001b[0m \u001b[32m━━━━━━━━━━━━━━━━━━━━\u001b[0m\u001b[37m\u001b[0m \u001b[1m124s\u001b[0m 600ms/step - accuracy: 0.6552 - loss: 1.3323 - val_accuracy: 0.6677 - val_loss: 1.3174\n",
      "Epoch 10/10\n",
      "\u001b[1m201/201\u001b[0m \u001b[32m━━━━━━━━━━━━━━━━━━━━\u001b[0m\u001b[37m\u001b[0m \u001b[1m128s\u001b[0m 619ms/step - accuracy: 0.6516 - loss: 1.2976 - val_accuracy: 0.5484 - val_loss: 1.4144\n"
     ]
    }
   ],
   "source": [
    "# 🔄 Step 6: Train the Model with Optimized Parameters\n",
    "resnet_history = resnet_model.fit(\n",
    "    train_generator,\n",
    "    validation_data=val_generator,\n",
    "    epochs=10,  # Increased epochs for fine-tuning\n",
    "    verbose=1\n",
    ")\n"
   ]
  },
  {
   "cell_type": "code",
   "execution_count": 9,
   "id": "93f9e7c0",
   "metadata": {
    "execution": {
     "iopub.execute_input": "2025-03-07T19:52:31.239058Z",
     "iopub.status.busy": "2025-03-07T19:52:31.238398Z",
     "iopub.status.idle": "2025-03-07T19:52:31.506759Z",
     "shell.execute_reply": "2025-03-07T19:52:31.505801Z"
    },
    "papermill": {
     "duration": 0.387027,
     "end_time": "2025-03-07T19:52:31.508248",
     "exception": false,
     "start_time": "2025-03-07T19:52:31.121221",
     "status": "completed"
    },
    "tags": []
   },
   "outputs": [
    {
     "data": {
      "image/png": "[encoded data removed]",
      "text/plain": [
       "<Figure size 800x500 with 1 Axes>"
      ]
     },
     "metadata": {},
     "output_type": "display_data"
    }
   ],
   "source": [
    "# 🔄 Step 7: Plot Training vs. Validation Accuracy\n",
    "import matplotlib.pyplot as plt\n",
    "\n",
    "plt.figure(figsize=(8, 5))\n",
    "plt.plot(resnet_history.history['accuracy'], label='Train Accuracy', marker='o')\n",
    "plt.plot(resnet_history.history['val_accuracy'], label='Validation Accuracy', marker='s')\n",
    "plt.xlabel('Epochs')\n",
    "plt.ylabel('Accuracy')\n",
    "plt.title('resnet Training vs. Validation Accuracy')\n",
    "plt.legend()\n",
    "plt.grid(True)\n",
    "plt.show()\n",
    "\n"
   ]
  },
  {
   "cell_type": "code",
   "execution_count": 10,
   "id": "67b290d1",
   "metadata": {
    "execution": {
     "iopub.execute_input": "2025-03-07T19:52:31.786825Z",
     "iopub.status.busy": "2025-03-07T19:52:31.786485Z",
     "iopub.status.idle": "2025-03-07T19:52:50.549231Z",
     "shell.execute_reply": "2025-03-07T19:52:50.548184Z"
    },
    "papermill": {
     "duration": 18.928618,
     "end_time": "2025-03-07T19:52:50.550775",
     "exception": false,
     "start_time": "2025-03-07T19:52:31.622157",
     "status": "completed"
    },
    "tags": []
   },
   "outputs": [
    {
     "name": "stdout",
     "output_type": "stream",
     "text": [
      "\u001b[1m64/64\u001b[0m \u001b[32m━━━━━━━━━━━━━━━━━━━━\u001b[0m\u001b[37m\u001b[0m \u001b[1m18s\u001b[0m 286ms/step - accuracy: 0.8559 - loss: 1.0234\n",
      "Test accuracy: 0.6016\n"
     ]
    }
   ],
   "source": [
    "# 🔄 Step 8: Evaluate the Model on Test Data\n",
    "test_loss, test_acc = resnet_model.evaluate(test_generator)\n",
    "print(f\"Test accuracy: {test_acc:.4f}\")"
   ]
  },
  {
   "cell_type": "code",
   "execution_count": null,
   "id": "e56e4b02",
   "metadata": {
    "papermill": {
     "duration": 0.11445,
     "end_time": "2025-03-07T19:52:50.781295",
     "exception": false,
     "start_time": "2025-03-07T19:52:50.666845",
     "status": "completed"
    },
    "tags": []
   },
   "outputs": [],
   "source": []
  }
 ],
 "metadata": {
  "kaggle": {
   "accelerator": "nvidiaTeslaT4",
   "dataSources": [
    {
     "datasetId": 23777,
     "sourceId": 30378,
     "sourceType": "datasetVersion"
    }
   ],
   "dockerImageVersionId": 30919,
   "isGpuEnabled": true,
   "isInternetEnabled": true,
   "language": "python",
   "sourceType": "notebook"
  },
  "kernelspec": {
   "display_name": "Python 3",
   "language": "python",
   "name": "python3"
  },
  "language_info": {
   "codemirror_mode": {
    "name": "ipython",
    "version": 3
   },
   "file_extension": ".py",
   "mimetype": "text/x-python",
   "name": "python",
   "nbconvert_exporter": "python",
   "pygments_lexer": "ipython3",
   "version": "3.10.12"
  },
  "papermill": {
   "default_parameters": {},
   "duration": 1438.618476,
   "end_time": "2025-03-07T19:52:54.259799",
   "environment_variables": {},
   "exception": null,
   "input_path": "__notebook__.ipynb",
   "output_path": "__notebook__.ipynb",
   "parameters": {},
   "start_time": "2025-03-07T19:28:55.641323",
   "version": "2.6.0"
  }
 },
 "nbformat": 4,
 "nbformat_minor": 5
}
